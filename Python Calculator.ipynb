{
 "cells": [
  {
   "cell_type": "code",
   "execution_count": 8,
   "id": "577c414e",
   "metadata": {},
   "outputs": [
    {
     "name": "stdout",
     "output_type": "stream",
     "text": [
      "\n",
      "------Pythons Basic Calculator------\n",
      "\n",
      "Please Enter the Desired Operation You want to perform\n",
      "+ for Addition \n",
      "- for Subtraction \n",
      "\\ for Division \n",
      "* for Division\n"
     ]
    }
   ],
   "source": []
  },
  {
   "cell_type": "code",
   "execution_count": 38,
   "id": "a9b2e7d8",
   "metadata": {},
   "outputs": [
    {
     "name": "stdout",
     "output_type": "stream",
     "text": [
      "\n",
      "------Pythons Basic Calculator------\n",
      "\n",
      "Please Enter the Desired Operation You want to perform: \n",
      "+ for Addition \n",
      "- for Subtraction \n",
      "\\ for Division \n",
      "* for Division+\n",
      "Enter the value of numbe1: 1\n",
      "Enter the value of number2: 2\n",
      "1.0 + 2.0 = \n",
      "3.0\n",
      "Do you want to calculate again (y)OR Press Q to quit?y\n",
      "\n",
      "------Pythons Basic Calculator------\n",
      "\n",
      "Please Enter the Desired Operation You want to perform: \n",
      "+ for Addition \n",
      "- for Subtraction \n",
      "\\ for Division \n",
      "* for Division-\n",
      "Enter the value of numbe1: 1\n",
      "Enter the value of number2: 2\n",
      "1.0 - 2.0 = \n",
      "-1.0\n",
      "Do you want to calculate again (y)OR Press Q to quit?Y\n",
      "\n",
      "------Pythons Basic Calculator------\n",
      "\n",
      "Please Enter the Desired Operation You want to perform: \n",
      "+ for Addition \n",
      "- for Subtraction \n",
      "\\ for Division \n",
      "* for Division-\n",
      "Enter the value of numbe1: 1\n",
      "Enter the value of number2: 2\n",
      "1.0 - 2.0 = \n",
      "-1.0\n",
      "Do you want to calculate again (y)OR Press Q to quit?Q\n",
      "Thank your for Using\n"
     ]
    }
   ],
   "source": [
    "def Menu():\n",
    "    print(\"\\n------Pythons Basic Calculator------\")\n",
    "    operator  = input(\"\\nPlease Enter the Desired Operation You want to perform: \\n+ for Addition \\n- for Subtraction \\n\\ for Division \\n* for Division\")\n",
    "    return operator\n",
    "\n",
    "def addition(a,b):\n",
    "    return a + b\n",
    "\n",
    "def subtraction(a, b):\n",
    "    return a - b\n",
    "\n",
    "def multiplication(a,b):\n",
    "    return a * b\n",
    "\n",
    "def division(a,b):\n",
    "    return a / b\n",
    "\n",
    "def calculation():\n",
    "    operator = Menu()\n",
    "    if operator == '+':\n",
    "        num1 = float(input(\"Enter the value of numbe1: \"))\n",
    "        num2 = float(input(\"Enter the value of number2: \"))\n",
    "        print('{} + {} = '.format(num1, num2))\n",
    "        print(addition(num1,num2))\n",
    "            \n",
    "    elif operator == '-':\n",
    "        num1 = float(input(\"Enter the value of numbe1: \"))\n",
    "        num2 = float(input(\"Enter the value of number2: \"))\n",
    "        print('{} - {} = '.format(num1, num2))\n",
    "        print(subtraction(num1,num2))\n",
    "        \n",
    "    elif operator == '*':\n",
    "        num1 = float(input(\"Enter the value of numbe1: \"))\n",
    "        num2 = float(input(\"Enter the value of number2: \"))\n",
    "        print('{} * {} = '.format(num1, num2))\n",
    "        print(multiplication(num1,num2))\n",
    "            \n",
    "    elif operator == '/':\n",
    "        num1 = float(input(\"Enter the value of numbe1: \"))\n",
    "        num2 = float(input(\"Enter the value of number2: \"))\n",
    "        print('{} + {} = '.format(num1, num2))\n",
    "        print(division(num1,num2))\n",
    "    else:\n",
    "        print(\"Invalid Operator.\")\n",
    "            \n",
    "    again()\n",
    "\n",
    "def again():\n",
    "    calc_again = input(\"Do you want to calculate again (y)OR Press Q to quit?\")\n",
    "    if calc_again.lower() == 'Y':\n",
    "        calculation()\n",
    "    elif calc_again.lower() == 'Q':\n",
    "        print(\"Thank your for Using\")\n",
    "        \n",
    "    \n",
    "calculation()\n"
   ]
  },
  {
   "cell_type": "code",
   "execution_count": null,
   "id": "ce2c0354",
   "metadata": {},
   "outputs": [],
   "source": []
  },
  {
   "cell_type": "code",
   "execution_count": null,
   "id": "bae3c537",
   "metadata": {},
   "outputs": [],
   "source": []
  },
  {
   "cell_type": "code",
   "execution_count": null,
   "id": "86a48fd6",
   "metadata": {},
   "outputs": [],
   "source": []
  }
 ],
 "metadata": {
  "kernelspec": {
   "display_name": "Python 3 (ipykernel)",
   "language": "python",
   "name": "python3"
  },
  "language_info": {
   "codemirror_mode": {
    "name": "ipython",
    "version": 3
   },
   "file_extension": ".py",
   "mimetype": "text/x-python",
   "name": "python",
   "nbconvert_exporter": "python",
   "pygments_lexer": "ipython3",
   "version": "3.9.13"
  }
 },
 "nbformat": 4,
 "nbformat_minor": 5
}
